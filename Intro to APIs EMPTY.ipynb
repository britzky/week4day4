{
 "cells": [
  {
   "cell_type": "markdown",
   "id": "7196054f",
   "metadata": {},
   "source": [
    "# Working with APIs"
   ]
  },
  {
   "cell_type": "markdown",
   "id": "0547b71e",
   "metadata": {},
   "source": [
    "API stands for Application programming interface<br>\n",
    "APIs are a way for applications to talk to eachother<br>\n",
    "In python we use the requests package to handle the connection<br>\n",
    "<small><strong>Note: It is requests with an s not request(this is a different package)</strong></small><br>\n",
    "Most API's communicate with data in the form of JSON<br>\n",
    "JSON stands for JavaScript Object Notation"
   ]
  },
  {
   "attachments": {},
   "cell_type": "markdown",
   "id": "cc80a1f0",
   "metadata": {},
   "source": [
    "### importing requests module"
   ]
  },
  {
   "cell_type": "code",
   "execution_count": 2,
   "id": "4db9d154",
   "metadata": {},
   "outputs": [],
   "source": [
    "import requests"
   ]
  },
  {
   "cell_type": "markdown",
   "id": "e8c2ce51",
   "metadata": {},
   "source": [
    "We will be connecting to the Ergast F1 Racer API today:\n",
    "http://ergast.com/mrd/\n",
    "\n",
    "to view JSON data nicely in the Chrome browser install the extension JSONview"
   ]
  },
  {
   "cell_type": "code",
   "execution_count": 3,
   "id": "52c440c6",
   "metadata": {},
   "outputs": [],
   "source": [
    "# Make sure to attach extension .json at the end of url\n",
    "# url = 'http://ergast.com/api/f1/2008/5/driverStandings.json'"
   ]
  },
  {
   "attachments": {},
   "cell_type": "markdown",
   "id": "1f8dc8b3",
   "metadata": {},
   "source": [
    "### using the request package to access data from api/url"
   ]
  },
  {
   "cell_type": "code",
   "execution_count": 4,
   "id": "f60c1b4a",
   "metadata": {},
   "outputs": [],
   "source": [
    "# response = requests.get(url)"
   ]
  },
  {
   "attachments": {},
   "cell_type": "markdown",
   "id": "52f840a9",
   "metadata": {},
   "source": [
    "### checking and making sure we got a successful response from our API\n",
    "#### status codes: 200 = ok/successful, 400 = bad/unsuccessful"
   ]
  },
  {
   "cell_type": "code",
   "execution_count": 5,
   "id": "7b63a204",
   "metadata": {},
   "outputs": [
    {
     "ename": "NameError",
     "evalue": "name 'response' is not defined",
     "output_type": "error",
     "traceback": [
      "\u001b[1;31m---------------------------------------------------------------------------\u001b[0m",
      "\u001b[1;31mNameError\u001b[0m                                 Traceback (most recent call last)",
      "Cell \u001b[1;32mIn[5], line 1\u001b[0m\n\u001b[1;32m----> 1\u001b[0m response\u001b[39m.\u001b[39mstatus_code\n\u001b[0;32m      2\u001b[0m response\u001b[39m.\u001b[39mok\n",
      "\u001b[1;31mNameError\u001b[0m: name 'response' is not defined"
     ]
    }
   ],
   "source": [
    "response.status_code\n",
    "response.ok"
   ]
  },
  {
   "attachments": {},
   "cell_type": "markdown",
   "id": "bc3fa89d",
   "metadata": {},
   "source": [
    "### view the response as a JSON with .json()"
   ]
  },
  {
   "cell_type": "code",
   "execution_count": null,
   "id": "ed4d3256",
   "metadata": {},
   "outputs": [
    {
     "data": {
      "text/plain": [
       "dict"
      ]
     },
     "execution_count": 25,
     "metadata": {},
     "output_type": "execute_result"
    }
   ],
   "source": [
    "type(response.json())\n"
   ]
  },
  {
   "attachments": {},
   "cell_type": "markdown",
   "id": "3b49045f",
   "metadata": {},
   "source": [
    "### Get the Driver Standings Data from JSON"
   ]
  },
  {
   "cell_type": "code",
   "execution_count": null,
   "id": "f074dfcf",
   "metadata": {},
   "outputs": [],
   "source": [
    "driver_standings_data = response.json()['MRData']['StandingsTable']['StandingsLists'][0]['DriverStandings']"
   ]
  },
  {
   "attachments": {},
   "cell_type": "markdown",
   "id": "459823db",
   "metadata": {},
   "source": [
    "### Use a for loop to display all driver full names"
   ]
  },
  {
   "cell_type": "code",
   "execution_count": null,
   "id": "be46a950",
   "metadata": {},
   "outputs": [
    {
     "name": "stdout",
     "output_type": "stream",
     "text": [
      "Kimi Räikkönen\n",
      "Felipe Massa\n",
      "Lewis Hamilton\n",
      "Robert Kubica\n",
      "Nick Heidfeld\n",
      "Heikki Kovalainen\n",
      "Mark Webber\n",
      "Fernando Alonso\n",
      "Jarno Trulli\n",
      "Nico Rosberg\n",
      "Kazuki Nakajima\n",
      "Jenson Button\n",
      "Sébastien Bourdais\n",
      "David Coulthard\n",
      "Timo Glock\n",
      "Giancarlo Fisichella\n",
      "Rubens Barrichello\n",
      "Nelson Piquet Jr.\n",
      "Takuma Sato\n",
      "Anthony Davidson\n",
      "Adrian Sutil\n",
      "Sebastian Vettel\n"
     ]
    }
   ],
   "source": [
    "for driver in driver_standings_data:\n",
    "    print(driver['Driver']['givenName'], driver['Driver']['familyName'])"
   ]
  },
  {
   "attachments": {},
   "cell_type": "markdown",
   "id": "43c20f0d",
   "metadata": {},
   "source": [
    "### Create a function getting certain driver info (givenName, familyName, dateOfBirth, wins, team)"
   ]
  },
  {
   "cell_type": "code",
   "execution_count": null,
   "id": "3740c752",
   "metadata": {},
   "outputs": [
    {
     "data": {
      "text/plain": [
       "[{\"('Kimi', 'Räikkönen')\": {'DOB': '1979-10-17',\n",
       "   'wins': '2',\n",
       "   'team': 'Ferrari'}},\n",
       " {\"('Felipe', 'Massa')\": {'DOB': '1981-04-25',\n",
       "   'wins': '2',\n",
       "   'team': 'Ferrari'}},\n",
       " {\"('Lewis', 'Hamilton')\": {'DOB': '1985-01-07',\n",
       "   'wins': '1',\n",
       "   'team': 'McLaren'}},\n",
       " {\"('Robert', 'Kubica')\": {'DOB': '1984-12-07',\n",
       "   'wins': '0',\n",
       "   'team': 'BMW Sauber'}},\n",
       " {\"('Nick', 'Heidfeld')\": {'DOB': '1977-05-10',\n",
       "   'wins': '0',\n",
       "   'team': 'BMW Sauber'}},\n",
       " {\"('Heikki', 'Kovalainen')\": {'DOB': '1981-10-19',\n",
       "   'wins': '0',\n",
       "   'team': 'McLaren'}},\n",
       " {\"('Mark', 'Webber')\": {'DOB': '1976-08-27',\n",
       "   'wins': '0',\n",
       "   'team': 'Red Bull'}},\n",
       " {\"('Fernando', 'Alonso')\": {'DOB': '1981-07-29',\n",
       "   'wins': '0',\n",
       "   'team': 'Renault'}},\n",
       " {\"('Jarno', 'Trulli')\": {'DOB': '1974-07-13', 'wins': '0', 'team': 'Toyota'}},\n",
       " {\"('Nico', 'Rosberg')\": {'DOB': '1985-06-27',\n",
       "   'wins': '0',\n",
       "   'team': 'Williams'}},\n",
       " {\"('Kazuki', 'Nakajima')\": {'DOB': '1985-01-11',\n",
       "   'wins': '0',\n",
       "   'team': 'Williams'}},\n",
       " {\"('Jenson', 'Button')\": {'DOB': '1980-01-19', 'wins': '0', 'team': 'Honda'}},\n",
       " {\"('Sébastien', 'Bourdais')\": {'DOB': '1979-02-28',\n",
       "   'wins': '0',\n",
       "   'team': 'Toro Rosso'}},\n",
       " {\"('David', 'Coulthard')\": {'DOB': '1971-03-27',\n",
       "   'wins': '0',\n",
       "   'team': 'Red Bull'}},\n",
       " {\"('Timo', 'Glock')\": {'DOB': '1982-03-18', 'wins': '0', 'team': 'Toyota'}},\n",
       " {\"('Giancarlo', 'Fisichella')\": {'DOB': '1973-01-14',\n",
       "   'wins': '0',\n",
       "   'team': 'Force India'}},\n",
       " {\"('Rubens', 'Barrichello')\": {'DOB': '1972-05-23',\n",
       "   'wins': '0',\n",
       "   'team': 'Honda'}},\n",
       " {\"('Nelson', 'Piquet Jr.')\": {'DOB': '1985-07-25',\n",
       "   'wins': '0',\n",
       "   'team': 'Renault'}},\n",
       " {\"('Takuma', 'Sato')\": {'DOB': '1977-01-28',\n",
       "   'wins': '0',\n",
       "   'team': 'Super Aguri'}},\n",
       " {\"('Anthony', 'Davidson')\": {'DOB': '1979-04-18',\n",
       "   'wins': '0',\n",
       "   'team': 'Super Aguri'}},\n",
       " {\"('Adrian', 'Sutil')\": {'DOB': '1983-01-11',\n",
       "   'wins': '0',\n",
       "   'team': 'Force India'}},\n",
       " {\"('Sebastian', 'Vettel')\": {'DOB': '1987-07-03',\n",
       "   'wins': '0',\n",
       "   'team': 'Toro Rosso'}}]"
      ]
     },
     "execution_count": 28,
     "metadata": {},
     "output_type": "execute_result"
    }
   ],
   "source": [
    "def get_driver_info(data):\n",
    "    new_driver_data = []\n",
    "    for driver in data:\n",
    "        driver_dict = {}\n",
    "        full_name = f\"{driver['Driver']['givenName'], driver['Driver']['familyName']}\"\n",
    "        driver_dict[full_name] = {\n",
    "            'DOB': driver['Driver']['dateOfBirth'],\n",
    "            'wins': driver['wins'],\n",
    "            'team': driver['Constructors'][0]['name']\n",
    "        }\n",
    "        new_driver_data.append(driver_dict)\n",
    "    return new_driver_data\n",
    "get_driver_info(driver_standings_data)"
   ]
  },
  {
   "attachments": {},
   "cell_type": "markdown",
   "id": "1a713b13",
   "metadata": {},
   "source": [
    "### Making a more flexible function to handle different years and rounds"
   ]
  },
  {
   "cell_type": "code",
   "execution_count": null,
   "id": "e9866280",
   "metadata": {},
   "outputs": [],
   "source": [
    "def get_driver_info_year_round(year, rnd):\n",
    "    url = f'http://ergast.com/api/f1/{year}/{rnd}/driverStandings.json'\n",
    "    response = requests.get(url)\n",
    "    if response.ok:\n",
    "        return get_driver_info(driver_standings_data)\n",
    "    else:\n",
    "        return 'That year or round does not exist.'\n",
    "\n",
    "# get_driver_info_year_round(2021, 8)"
   ]
  },
  {
   "cell_type": "markdown",
   "id": "6d546014",
   "metadata": {},
   "source": [
    "# <strong>Homework</strong>\n",
    "check out this Pokemon API https://pokeapi.co/\n",
    "Use the requests package to connect to this API and get and store data for 5 different pokemon.\n",
    "Get the pokemons: name, atleast one ability's name, base_experience, and the URL for its sprite (an image that shows up on screen) for the 'front_shiny', attack base_stat, hp base_stat, defense base_stat"
   ]
  },
  {
   "cell_type": "code",
   "execution_count": 16,
   "id": "5a9081e3",
   "metadata": {},
   "outputs": [
    {
     "name": "stdout",
     "output_type": "stream",
     "text": [
      "name: muk\n",
      "base_experience: 175\n",
      "sprite: https://raw.githubusercontent.com/PokeAPI/sprites/master/sprites/pokemon/other/dream-world/89.svg\n",
      "attack_base_stat: 105\n",
      "hp_base_stat: 105\n",
      "defense_base_stat: 75\n",
      "\n",
      "name: mr-mime\n",
      "base_experience: 161\n",
      "sprite: https://raw.githubusercontent.com/PokeAPI/sprites/master/sprites/pokemon/other/dream-world/122.svg\n",
      "attack_base_stat: 45\n",
      "hp_base_stat: 40\n",
      "defense_base_stat: 65\n",
      "\n",
      "name: jynx\n",
      "base_experience: 159\n",
      "sprite: https://raw.githubusercontent.com/PokeAPI/sprites/master/sprites/pokemon/other/dream-world/124.svg\n",
      "attack_base_stat: 50\n",
      "hp_base_stat: 65\n",
      "defense_base_stat: 35\n",
      "\n",
      "name: diglett\n",
      "base_experience: 53\n",
      "sprite: https://raw.githubusercontent.com/PokeAPI/sprites/master/sprites/pokemon/other/dream-world/50.svg\n",
      "attack_base_stat: 55\n",
      "hp_base_stat: 10\n",
      "defense_base_stat: 25\n",
      "\n",
      "name: magikarp\n",
      "base_experience: 40\n",
      "sprite: https://raw.githubusercontent.com/PokeAPI/sprites/master/sprites/pokemon/other/dream-world/129.svg\n",
      "attack_base_stat: 10\n",
      "hp_base_stat: 20\n",
      "defense_base_stat: 55\n",
      "\n",
      "name: lickitung\n",
      "base_experience: 77\n",
      "sprite: https://raw.githubusercontent.com/PokeAPI/sprites/master/sprites/pokemon/other/dream-world/108.svg\n",
      "attack_base_stat: 55\n",
      "hp_base_stat: 90\n",
      "defense_base_stat: 75\n",
      "\n",
      "That's not a pokemon!\n"
     ]
    }
   ],
   "source": [
    "# info needed:\n",
    "    # name\n",
    "    # base_experience\n",
    "    # url for sprite\n",
    "    # attack base_stat\n",
    "    # hp base_stat\n",
    "    # defense base_stat\n",
    "def get_pokemon_info(name):\n",
    "    '''\n",
    "    display name, base experience, url for sprite, attack base stat,\n",
    "    hp base stat and defense base stat for any pokemon available on\n",
    "    PokeAPI \n",
    "    '''\n",
    "    #variable to store the url depending on the name given\n",
    "    url = f'https://pokeapi.co/api/v2/pokemon/{name}'\n",
    "     #variable to store the requests \n",
    "    response = requests.get(url)\n",
    "    #check for errors\n",
    "    if response.status_code != 200:\n",
    "        return f'That\\'s not a pokemon!'\n",
    "    # variable to store response.json()\n",
    "    data = response.json()\n",
    "    # store the pokemon info in a dictionary,\n",
    "    # so I can easily print all info at once for each pokemon\n",
    "    info = {\n",
    "            'name': data['forms'][0]['name'],\n",
    "            'base_experience': data['base_experience'],\n",
    "            'sprite': data['sprites']['other']['dream_world']['front_default'],        \n",
    "            'attack_base_stat': data['stats'][1]['base_stat'],\n",
    "            'hp_base_stat': data['stats'][0]['base_stat'],\n",
    "            'defense_base_stat': data['stats'][2]['base_stat']\n",
    "    }\n",
    "    # make a variable to store the clean output of the info dictionary \n",
    "    output = ''\n",
    "    # loop through the info dictionary\n",
    "    for key, value in info.items():\n",
    "        # put the results of the looped dictionary in the variable\n",
    "        output += f'{key}: {value}\\n'\n",
    "    return output\n",
    "\n",
    "print(get_pokemon_info('muk'))\n",
    "print(get_pokemon_info('mr-mime'))\n",
    "print(get_pokemon_info('jynx'))\n",
    "print(get_pokemon_info('diglett'))\n",
    "print(get_pokemon_info('magikarp'))\n",
    "print(get_pokemon_info('lickitung'))\n",
    "print(get_pokemon_info('stone cold steve austin'))\n",
    "#time complexity linear O(n)\n",
    "    \n",
    "\n",
    "\n",
    "\n",
    "    "
   ]
  },
  {
   "cell_type": "code",
   "execution_count": null,
   "id": "6cd041f7",
   "metadata": {},
   "outputs": [],
   "source": []
  }
 ],
 "metadata": {
  "kernelspec": {
   "display_name": "Python 3",
   "language": "python",
   "name": "python3"
  },
  "language_info": {
   "codemirror_mode": {
    "name": "ipython",
    "version": 3
   },
   "file_extension": ".py",
   "mimetype": "text/x-python",
   "name": "python",
   "nbconvert_exporter": "python",
   "pygments_lexer": "ipython3",
   "version": "3.10.10"
  },
  "vscode": {
   "interpreter": {
    "hash": "002098da9f3567ef53547ecded005206d366ff0226c6e0fed600d6e5fe497e26"
   }
  }
 },
 "nbformat": 4,
 "nbformat_minor": 5
}
